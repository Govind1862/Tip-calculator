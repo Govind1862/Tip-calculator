{
 "cells": [
  {
   "cell_type": "code",
   "execution_count": 17,
   "id": "49e0ec5b-b5a9-4a10-9536-5ae1695f839a",
   "metadata": {},
   "outputs": [
    {
     "name": "stdout",
     "output_type": "stream",
     "text": [
      "Welcome to the tip calculator!\n"
     ]
    },
    {
     "name": "stdin",
     "output_type": "stream",
     "text": [
      "What was the total bill? 100\n",
      "How much tip would you like to give? 10, 12, or 15? 15\n",
      "How many people to split the bill? 3\n"
     ]
    },
    {
     "name": "stdout",
     "output_type": "stream",
     "text": [
      "Each person should pay: 5.0\n"
     ]
    }
   ],
   "source": [
    "print(\"Welcome to the tip calculator!\")\n",
    "a = float(input(\"What was the total bill?\"))\n",
    "b = int(input(\"How much tip would you like to give? 10, 12, or 15?\"))\n",
    "c = int(input(\"How many people to split the bill?\"))\n",
    "d = ((b/a)*100)/c\n",
    "print(f\"Each person should pay: {d}\")"
   ]
  },
  {
   "cell_type": "code",
   "execution_count": null,
   "id": "fbef9fc9-e7d2-4784-bf67-fabf14675eb2",
   "metadata": {},
   "outputs": [],
   "source": []
  }
 ],
 "metadata": {
  "kernelspec": {
   "display_name": "Python 3 (ipykernel)",
   "language": "python",
   "name": "python3"
  },
  "language_info": {
   "codemirror_mode": {
    "name": "ipython",
    "version": 3
   },
   "file_extension": ".py",
   "mimetype": "text/x-python",
   "name": "python",
   "nbconvert_exporter": "python",
   "pygments_lexer": "ipython3",
   "version": "3.12.4"
  }
 },
 "nbformat": 4,
 "nbformat_minor": 5
}
